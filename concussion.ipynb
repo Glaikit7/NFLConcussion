{
 "cells": [
  {
   "cell_type": "code",
   "execution_count": 1,
   "metadata": {},
   "outputs": [],
   "source": [
    "# Import libraries\n",
    "import numpy as np\n",
    "import pandas as pd\n",
    "import matplotlib.pyplot as plt\n",
    "plt.style.use('ggplot')\n",
    "import re"
   ]
  },
  {
   "cell_type": "code",
   "execution_count": 2,
   "metadata": {},
   "outputs": [],
   "source": [
    "# Read in the data\n",
    "dfconc = pd.read_csv(r'C:\\Users\\crae1\\Documents\\GWG\\NFL Concussion\\NFL_concussion\\concussionNFL.csv')"
   ]
  },
  {
   "cell_type": "code",
   "execution_count": 3,
   "metadata": {},
   "outputs": [
    {
     "name": "stdout",
     "output_type": "stream",
     "text": [
      "ID - 0.0%\n",
      "Player - 0.0%\n",
      "Team - 0.0%\n",
      "Game - 0.0%\n",
      "Date - 0.0%\n",
      "Opposing Team - 0.0%\n",
      "Position - 0.0%\n",
      "Pre-Season Injury? - 0.0%\n",
      "Winning Team? - 0.0%\n",
      "Week of Injury - 0.0%\n",
      "Season - 0.0%\n",
      "Weeks Injured - 0.0%\n",
      "Games Missed - 0.07908163265306123%\n",
      "Unknown Injury? - 0.0%\n",
      "Reported Injury Type - 0.007653061224489796%\n",
      "Total Snaps - 0.0%\n",
      "Play Time After Injury - 0.1096938775510204%\n",
      "Average Playtime Before Injury - 0.13010204081632654%\n"
     ]
    }
   ],
   "source": [
    "# Search for missing data\n",
    "def missing_data_search():\n",
    "    for col in dfconc.columns:\n",
    "        percentage_missing = np.mean(dfconc[col].isnull())\n",
    "        print('{} - {}%'.format(col, percentage_missing))\n",
    "missing_data_search()"
   ]
  },
  {
   "cell_type": "code",
   "execution_count": 5,
   "metadata": {},
   "outputs": [
    {
     "name": "stdout",
     "output_type": "stream",
     "text": [
      "ID - 0.0%\n",
      "Player - 0.0%\n",
      "Team - 0.0%\n",
      "Game - 0.0%\n",
      "Date - 0.0%\n",
      "Opposing Team - 0.0%\n",
      "Position - 0.0%\n",
      "Pre-Season Injury? - 0.0%\n",
      "Winning Team? - 0.0%\n",
      "Week of Injury - 0.0%\n",
      "Season - 0.0%\n",
      "Weeks Injured - 0.0%\n",
      "Games Missed - 0.0%\n",
      "Unknown Injury? - 0.0%\n",
      "Reported Injury Type - 0.0%\n",
      "Total Snaps - 0.0%\n",
      "Play Time After Injury - 0.0%\n",
      "Average Playtime Before Injury - 0.0%\n"
     ]
    }
   ],
   "source": [
    "# Drop rows with incomplete data\n",
    "dfconc = dfconc[dfconc['Reported Injury Type'].notna()]\n",
    "dfconc = dfconc[dfconc['Games Missed'].notna()]\n",
    "dfconc = dfconc[dfconc['Play Time After Injury'].notna()]\n",
    "dfconc = dfconc[dfconc['Average Playtime Before Injury'].notna()]\n",
    "\n",
    "missing_data_search()\n"
   ]
  },
  {
   "cell_type": "code",
   "execution_count": 6,
   "metadata": {},
   "outputs": [],
   "source": [
    "# Filter data only for players that suffered a concussion\n",
    "dfconc = dfconc[dfconc['Reported Injury Type'] == 'Concussion']\n"
   ]
  },
  {
   "cell_type": "code",
   "execution_count": 7,
   "metadata": {},
   "outputs": [
    {
     "name": "stdout",
     "output_type": "stream",
     "text": [
      "['Offensive Tackle' 'Wide Receiver' 'Guard' 'Defensive End' 'Tight End'\n",
      " 'Running Back' 'Center' 'Safety' 'Comerback' 'Linebacker'\n",
      " 'Defensive Tackle' 'Quarterback' 'Full Back']\n"
     ]
    }
   ],
   "source": [
    "# List all positions in df\n",
    "print(dfconc.Position.unique())"
   ]
  },
  {
   "cell_type": "code",
   "execution_count": 8,
   "metadata": {},
   "outputs": [],
   "source": [
    "# Replace position names with abbreviations\n",
    "dfconc = dfconc.replace('Wide Receiver', 'WR')\n",
    "dfconc = dfconc.replace('Offensive Tackle', 'OT')\n",
    "dfconc = dfconc.replace('Center', 'C')\n",
    "dfconc = dfconc.replace('Guard', 'OG')\n",
    "dfconc = dfconc.replace('Tight End', 'TE')\n",
    "dfconc = dfconc.replace('Defensive End', 'DE')\n",
    "dfconc = dfconc.replace('Running Back', 'RB')\n",
    "dfconc = dfconc.replace('Safety', 'S')\n",
    "dfconc = dfconc.replace('Comerback', 'CB')\n",
    "dfconc = dfconc.replace('Linebacker', 'LB')\n",
    "dfconc = dfconc.replace('Defensive Tackle', 'DT')\n",
    "dfconc = dfconc.replace('Quarterback', 'QB')\n",
    "dfconc = dfconc.replace('Full Back', 'FB')\n"
   ]
  },
  {
   "cell_type": "code",
   "execution_count": 9,
   "metadata": {},
   "outputs": [],
   "source": [
    "# Change dtypes of play time columns and rename them, 'Did not return from injury' now has a value of 1000\n",
    "dfconc['Play Time After Injury'] = dfconc['Play Time After Injury'].str.replace(r'Did not return from injury', '1000')\n",
    "dfconc['Play Time After Injury'] = dfconc['Play Time After Injury'].str.replace(r' downs', '').astype(int)\n",
    "dfconc['Average Playtime Before Injury'] = dfconc['Average Playtime Before Injury'].str.replace(r' downs', '').astype(float)"
   ]
  },
  {
   "cell_type": "code",
   "execution_count": 10,
   "metadata": {},
   "outputs": [],
   "source": [
    "dfconc.rename(columns={'Play Time After Injury' : 'downs_after_injury', 'Average Playtime Before Injury' : 'mean_downs_before_injury', 'Player' : 'nameFull'}, inplace=True, errors='raise')"
   ]
  },
  {
   "cell_type": "code",
   "execution_count": 11,
   "metadata": {},
   "outputs": [],
   "source": [
    "# Read in the data\n",
    "dfcomb = pd.read_csv(r'C:\\Users\\crae1\\Documents\\GWG\\NFL Concussion\\NFL_concussion\\combine.csv')"
   ]
  },
  {
   "cell_type": "code",
   "execution_count": 12,
   "metadata": {},
   "outputs": [
    {
     "name": "stdout",
     "output_type": "stream",
     "text": [
      "combineId - 0.0%\n",
      "playerId - 0.0%\n",
      "combineYear - 0.0%\n",
      "combinePosition - 0.0%\n",
      "combineHeight - 0.0%\n",
      "combineWeight - 0.0%\n",
      "combineHand - 0.6436507936507937%\n",
      "nameFirst - 0.0001984126984126984%\n",
      "nameLast - 0.0001984126984126984%\n",
      "nameFull - 0.0001984126984126984%\n",
      "position - 0.00029761904761904765%\n",
      "collegeId - 0.0001984126984126984%\n",
      "nflId - 0.10783730158730159%\n",
      "college - 0.0001984126984126984%\n",
      "heightInches - 0.0006944444444444445%\n",
      "weight - 0.0006944444444444445%\n",
      "dob - 0.15763888888888888%\n",
      "ageAtDraft - 0.15763888888888888%\n",
      "playerProfileUrl - 0.10783730158730159%\n",
      "homeCity - 0.25376984126984126%\n",
      "homeState - 0.2685515873015873%\n",
      "homeCountry - 0.24910714285714286%\n",
      "highSchool - 0.5861111111111111%\n",
      "hsCity - 0.7691468253968254%\n",
      "hsState - 0.5875992063492064%\n",
      "hsCountry - 0.5861111111111111%\n",
      "combineArm - 0.6749007936507937%\n",
      "combine40yd - 0.10496031746031746%\n",
      "combineVert - 0.16061507936507938%\n",
      "combineBench - 0.28888888888888886%\n",
      "combineShuttle - 0.2573412698412698%\n",
      "combineBroad - 0.17549603174603173%\n",
      "combine3cone - 0.522420634920635%\n",
      "combine60ydShuttle - 0.8241071428571428%\n",
      "combineWonderlic - 0.9637896825396826%\n"
     ]
    }
   ],
   "source": [
    "# Search for missing data\n",
    "def missing_data_search():\n",
    "    for col in dfcomb.columns:\n",
    "        percentage_missing = np.mean(dfcomb[col].isnull())\n",
    "        print('{} - {}%'.format(col, percentage_missing))\n",
    "missing_data_search()"
   ]
  },
  {
   "cell_type": "code",
   "execution_count": 13,
   "metadata": {},
   "outputs": [
    {
     "name": "stdout",
     "output_type": "stream",
     "text": [
      "combineId - 0.0%\n",
      "playerId - 0.0%\n",
      "combineYear - 0.0%\n",
      "combinePosition - 0.0%\n",
      "combineHeight - 0.0%\n",
      "combineWeight - 0.0%\n",
      "combineHand - 0.6914642772930912%\n",
      "nameFirst - 0.0%\n",
      "nameLast - 0.0%\n",
      "nameFull - 0.0%\n",
      "position - 0.0%\n",
      "collegeId - 0.0%\n",
      "nflId - 0.0%\n",
      "college - 0.0%\n",
      "heightInches - 0.0%\n",
      "weight - 0.0%\n",
      "dob - 0.0%\n",
      "ageAtDraft - 0.0%\n",
      "playerProfileUrl - 0.0%\n",
      "homeCity - 0.11483140768686631%\n",
      "homeState - 0.13239801933506248%\n",
      "homeCountry - 0.10929026173072388%\n",
      "highSchool - 0.5095496345201603%\n",
      "hsCity - 0.7265975005894836%\n",
      "hsState - 0.5113180853572271%\n",
      "hsCountry - 0.5095496345201603%\n",
      "combineArm - 0.7184626267389767%\n",
      "combine40yd - 0.09785427965102571%\n",
      "combineVert - 0.15739212449893894%\n",
      "combineBench - 0.2736382928554586%\n",
      "combineShuttle - 0.25701485498703136%\n",
      "combineBroad - 0.17201131808535722%\n",
      "combine3cone - 0.4854987031360528%\n",
      "combine60ydShuttle - 0.8519217165762791%\n",
      "combineWonderlic - 0.9597972176373497%\n"
     ]
    }
   ],
   "source": [
    "# Drop rows with missing data\n",
    "dfcomb = dfcomb[dfcomb['nameFirst'].notna()]\n",
    "dfcomb = dfcomb[dfcomb['nameLast'].notna()]\n",
    "dfcomb = dfcomb[dfcomb['nameFull'].notna()]\n",
    "dfcomb = dfcomb[dfcomb['position'].notna()]\n",
    "dfcomb = dfcomb[dfcomb['collegeId'].notna()]\n",
    "dfcomb = dfcomb[dfcomb['nflId'].notna()]\n",
    "dfcomb = dfcomb[dfcomb['college'].notna()]\n",
    "dfcomb = dfcomb[dfcomb['heightInches'].notna()]\n",
    "dfcomb = dfcomb[dfcomb['weight'].notna()]\n",
    "dfcomb = dfcomb[dfcomb['dob'].notna()]\n",
    "dfcomb = dfcomb[dfcomb['ageAtDraft'].notna()]\n",
    "\n",
    "missing_data_search()"
   ]
  },
  {
   "cell_type": "code",
   "execution_count": 14,
   "metadata": {},
   "outputs": [
    {
     "name": "stdout",
     "output_type": "stream",
     "text": [
      "['DB' 'C' 'WR' 'DT' 'RB' 'OT' 'TE' 'DE' 'LB' 'QB' 'OG' 'K' 'S' 'FB' 'OLB'\n",
      " 'OL' 'P' 'DL' 'LS']\n"
     ]
    }
   ],
   "source": [
    "# List all positions in df\n",
    "print(dfcomb.position.unique())"
   ]
  },
  {
   "cell_type": "code",
   "execution_count": 15,
   "metadata": {},
   "outputs": [],
   "source": [
    "# Refactor position ids to match concussion.csv\n",
    "dfcomb = dfcomb.replace('DB', 'CB')\n",
    "dfcomb = dfcomb.replace('LS', 'C')\n",
    "dfcomb = dfcomb.replace('OLB', 'LB')\n",
    "dfcomb = dfcomb.replace('OL', 'OG')\n",
    "dfcomb = dfcomb.replace('DL', 'DT')"
   ]
  },
  {
   "cell_type": "code",
   "execution_count": 16,
   "metadata": {},
   "outputs": [],
   "source": [
    "# Create a merged df with players that are concussed on dfconc and players that are on dfcomb\n",
    "dfcommon = dfcomb.merge(dfconc, on=['nameFull'])\n",
    "dfcommon = dfconc = pd.read_csv(r'C:\\Users\\crae1\\Documents\\GWG\\NFL Concussion\\NFL_concussion\\common.csv')"
   ]
  },
  {
   "cell_type": "code",
   "execution_count": 17,
   "metadata": {},
   "outputs": [],
   "source": [
    "# Initialise list of pos\n",
    "positions = ['C', 'RB', 'CB', 'LB', 'OG', 'OT', 'QB', 'DT', 'S', 'FB', 'WR', 'TE']"
   ]
  },
  {
   "cell_type": "code",
   "execution_count": 18,
   "metadata": {},
   "outputs": [
    {
     "name": "stdout",
     "output_type": "stream",
     "text": [
      "mean height in the NFL for C's is 75.38333333333334 in mean height of concussed players 76.33333333333333 in\n",
      "mean height in the NFL for RB's is 70.92882991556091 in mean height of concussed players 71.04545454545455 in\n",
      "mean height in the NFL for CB's is 71.33462657613967 in mean height of concussed players 71.6 in\n",
      "mean height in the NFL for LB's is 73.89324817518248 in mean height of concussed players 74.05882352941177 in\n",
      "mean height in the NFL for OG's is 76.05454545454545 in mean height of concussed players 76.1 in\n",
      "mean height in the NFL for OT's is 77.53212520593081 in mean height of concussed players 78.42857142857143 in\n",
      "mean height in the NFL for QB's is 74.82039911308205 in mean height of concussed players 75.42857142857143 in\n",
      "mean height in the NFL for DT's is 75.0347551342812 in mean height of concussed players 75.0 in\n",
      "mean height in the NFL for S's is 72.39328063241106 in mean height of concussed players 72.29629629629629 in\n",
      "mean height in the NFL for FB's is 72.4015748031496 in mean height of concussed players 71.0 in\n",
      "mean height in the NFL for WR's is 72.48713235294117 in mean height of concussed players 73.04761904761905 in\n",
      "mean height in the NFL for TE's is 76.15589353612167 in mean height of concussed players 75.77777777777777 in\n"
     ]
    }
   ],
   "source": [
    "# Iterate through list and compare height and weight \n",
    "for pos in positions:\n",
    "    avg = np.mean(dfcomb['heightInches'].where(dfcomb['position'] == pos))\n",
    "    avgconc = np.mean(dfcommon['heightInches'].where(dfcommon['position'] == pos))\n",
    "    print('mean height in the NFL for {}s is {} in mean height of concussed players {} in'.format(pos + '\\'', avg, avgconc))"
   ]
  },
  {
   "cell_type": "code",
   "execution_count": 19,
   "metadata": {},
   "outputs": [
    {
     "name": "stdout",
     "output_type": "stream",
     "text": [
      "mean weight in the NFL for C's is 297.1791666666667 lbs mean weight of concussed players 308.3333333333333 lbs\n",
      "mean weight in the NFL for RB's is 215.85765983112182 lbs mean weight of concussed players 220.8181818181818 lbs\n",
      "mean weight in the NFL for CB's is 193.87487875848691 lbs mean weight of concussed players 196.63333333333333 lbs\n",
      "mean weight in the NFL for LB's is 241.51003649635035 lbs mean weight of concussed players 245.41176470588235 lbs\n",
      "mean weight in the NFL for OG's is 310.19669421487606 lbs mean weight of concussed players 314.3 lbs\n",
      "mean weight in the NFL for OT's is 312.3657331136738 lbs mean weight of concussed players 323.85714285714283 lbs\n",
      "mean weight in the NFL for QB's is 220.80044345898006 lbs mean weight of concussed players 227.28571428571428 lbs\n",
      "mean weight in the NFL for DT's is 302.99842022116906 lbs mean weight of concussed players 314.85714285714283 lbs\n",
      "mean weight in the NFL for S's is 207.4822134387352 lbs mean weight of concussed players 208.85185185185185 lbs\n",
      "mean weight in the NFL for FB's is 242.84251968503938 lbs mean weight of concussed players 234.0 lbs\n",
      "mean weight in the NFL for WR's is 197.82996323529412 lbs mean weight of concussed players 207.38095238095238 lbs\n",
      "mean weight in the NFL for TE's is 254.3593155893536 lbs mean weight of concussed players 253.77777777777777 lbs\n"
     ]
    }
   ],
   "source": [
    "for pos in positions:\n",
    "    avg = np.mean(dfcomb['weight'].where(dfcomb['position'] == pos))\n",
    "    avgconc = np.mean(dfcommon['weight'].where(dfcommon['position'] == pos))\n",
    "    print('mean weight in the NFL for {}s is {} lbs mean weight of concussed players {} lbs'.format(pos + '\\'', avg, avgconc))"
   ]
  },
  {
   "cell_type": "code",
   "execution_count": 77,
   "metadata": {},
   "outputs": [],
   "source": [
    "# Create summary df for concussion and NFL groups\n",
    "heightavgNFL = dfcomb.groupby('position')['heightInches'].mean\n",
    "heightavgdf = dfcommon.groupby('position')['heightInches'].mean\n",
    "weightavgNFL = dfcomb.groupby('position')['weight'].mean\n",
    "weightavgdf = dfcommon.groupby('position')['weight'].mean\n"
   ]
  },
  {
   "cell_type": "code",
   "execution_count": 73,
   "metadata": {},
   "outputs": [
    {
     "data": {
      "text/plain": [
       "<matplotlib.legend.Legend at 0x1f34cf39420>"
      ]
     },
     "execution_count": 73,
     "metadata": {},
     "output_type": "execute_result"
    },
    {
     "data": {
      "image/png": "[encoded data removed]",
      "text/plain": [
       "<Figure size 1600x800 with 1 Axes>"
      ]
     },
     "metadata": {},
     "output_type": "display_data"
    }
   ],
   "source": [
    "# Plot height\n",
    "bar_width = 0.10\n",
    "ax = heightavgNFL().plot(kind='bar', align='edge', title='Mean NFL Height vs Mean Concussed Height', ylabel='Height (in)', xlabel='Position', width=bar_width, figsize=(16,8), color='r',label='NFL')\n",
    "heightavgdf().plot(kind='bar', ax=ax, align='edge', title='Mean NFL Height vs Mean Concussed Height', ylabel='Height (in)', xlabel='Position', width=-bar_width, figsize=(16,8), color='b',label='Concussion Group')\n",
    "plt.legend(loc='lower right')"
   ]
  },
  {
   "cell_type": "code",
   "execution_count": 79,
   "metadata": {},
   "outputs": [
    {
     "data": {
      "text/plain": [
       "<matplotlib.legend.Legend at 0x1f344706740>"
      ]
     },
     "execution_count": 79,
     "metadata": {},
     "output_type": "execute_result"
    },
    {
     "data": {
      "image/png": "[encoded data removed]",
      "text/plain": [
       "<Figure size 1600x800 with 1 Axes>"
      ]
     },
     "metadata": {},
     "output_type": "display_data"
    }
   ],
   "source": [
    "# Plot weight\n",
    "bar_width = 0.10\n",
    "ax = weightavgNFL().plot(kind='bar', align='edge', title='Mean NFL Weight vs Mean Concussed Weight', ylabel='Weight (lbs)', xlabel='Position', width=bar_width, figsize=(16,8), color='r',label='NFL')\n",
    "weightavgdf().plot(kind='bar', ax=ax, align='edge', title='Mean NFL Weight vs Mean Concussed Weight', ylabel='Weight (lbs)', xlabel='Position', width=-bar_width, figsize=(16,8), color='b',label='Concussion Group')\n",
    "plt.legend(loc='lower right')"
   ]
  }
 ],
 "metadata": {
  "kernelspec": {
   "display_name": "Python 3.10.8 64-bit (microsoft store)",
   "language": "python",
   "name": "python3"
  },
  "language_info": {
   "codemirror_mode": {
    "name": "ipython",
    "version": 3
   },
   "file_extension": ".py",
   "mimetype": "text/x-python",
   "name": "python",
   "nbconvert_exporter": "python",
   "pygments_lexer": "ipython3",
   "version": "3.10.8"
  },
  "orig_nbformat": 4,
  "vscode": {
   "interpreter": {
    "hash": "35e8bb57fdae471a74ff82bbc82d407914f4ca244a05e56daca50c2348b26bbc"
   }
  }
 },
 "nbformat": 4,
 "nbformat_minor": 2
}
